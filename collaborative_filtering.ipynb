{
 "cells": [
  {
   "cell_type": "markdown",
   "metadata": {
    "collapsed": true
   },
   "source": [
    "# Collaborative filtering for beer recommendations"
   ]
  },
  {
   "cell_type": "code",
   "execution_count": null,
   "metadata": {
    "collapsed": true
   },
   "outputs": [],
   "source": [
    "# importing the required libraries\n",
    "\n",
    "import os\n",
    "import pandas as pd\n",
    "import numpy as np\n",
    "import matplotlib.pyplot as plt\n",
    "os.chdir(\"C:/Users/Rishi's pet dragon/Desktop/6740/Project\")"
   ]
  },
  {
   "cell_type": "code",
   "execution_count": null,
   "metadata": {
    "collapsed": false
   },
   "outputs": [],
   "source": [
    "# reading the train and test data set\n",
    "\n",
    "train_df = pd.read_csv('train.csv', encoding=result['encoding'])\n",
    "test_df = pd.read_csv('test.csv' , encoding = result['encoding'])"
   ]
  },
  {
   "cell_type": "code",
   "execution_count": null,
   "metadata": {
    "collapsed": false
   },
   "outputs": [],
   "source": [
    "#creating the training user-bottle matrix\n",
    "\n",
    "n_users = max(train_df.user_label.unique())\n",
    "n_items = max(train_df.bottle_label.unique())\n",
    "\n",
    "A = np.zeros((n_users, n_items))\n",
    "for line in train_df.itertuples():\n",
    "    A[int(line[6])-1, int(line[7])-1] = int(line[8]) "
   ]
  },
  {
   "cell_type": "code",
   "execution_count": null,
   "metadata": {
    "collapsed": false
   },
   "outputs": [],
   "source": [
    "A.shape"
   ]
  },
  {
   "cell_type": "code",
   "execution_count": null,
   "metadata": {
    "collapsed": true
   },
   "outputs": [],
   "source": [
    "#similiarly creating the test matrix\n",
    "n_users = max(test_df.user_label.unique()) \n",
    "n_items = max(test_df.bottle_label.unique()) \n",
    "\n",
    "A_t = np.zeros((n_users, n_items))\n",
    "for line in test_df.itertuples():\n",
    "    A_t[int(line[6])-1, int(line[7])-1] = int(line[8]) \n"
   ]
  },
  {
   "cell_type": "code",
   "execution_count": null,
   "metadata": {
    "collapsed": false
   },
   "outputs": [],
   "source": [
    "# creating the similarity matrix using cosine and pearson correlation distances\n",
    "\n",
    "from scipy import spatial\n",
    "users_avg = np.sum(A , axis = 1) / np.sum( (A != 0) , axis = 1)\n",
    "\n",
    "#creating the similarity matrix\n",
    "\n",
    "sim_cos = np.empty(shape = (A.shape[1],A.shape[1]))\n",
    "sim_corr = np.empty(shape = (A.shape[1],A.shape[1]))\n",
    "\n",
    "#running the loop on the upper triangle as the matrix is symmetric\n",
    "\n",
    "for row in list(range(0,A.shape[1]-1)):\n",
    "    for col in list(range(row+1 , A.shape[1])):\n",
    "        \n",
    "        #selecting the users common for a particular (i1,i2) movie combination\n",
    "        union = A[:,[row,col]][(A[:,row] != 0) & (A[:,col] != 0)]\n",
    "        \n",
    "        if union.size:\n",
    "            ru1 = union[:,0] - users_avg[(A[:,row] != 0) & (A[:,col] != 0)]\n",
    "            ru2 = union[:,1] - users_avg[(A[:,row] != 0) & (A[:,col] != 0)]\n",
    "            sim_cos[row,col] = 1 - spatial.distance.cosine(ru1, ru2)\n",
    "            sim_corr[row,col] = np.corrcoef(ru1,ru2)[0,1]\n",
    "        else:\n",
    "            #if no users are common between (i1,i2) we set the similarity value to zero\n",
    "            sim_cos[row,col] = 0\n",
    "            sim_corr[row,col] = 0\n",
    "\n",
    "sim_cos[np.isnan(sim_cos)]=1\n",
    "np.fill_diagonal(sim_cos,1)\n",
    "\n",
    "#setting the lower triangle to the values in the upper triangle\n",
    "i_lower = np.tril_indices(A.shape[1], -1)\n",
    "sim_cos[i_lower] = sim_cos.T[i_lower]\n",
    "\n",
    "\n",
    "\n",
    "sim_corr[np.isnan(sim_corr)]=1\n",
    "np.fill_diagonal(sim_cos,1)\n",
    "\n",
    "#setting the lower triangle to the values in the upper triangle\n",
    "sim_corr[i_lower] = sim_corr.T[i_lower]"
   ]
  },
  {
   "cell_type": "code",
   "execution_count": null,
   "metadata": {
    "collapsed": false
   },
   "outputs": [],
   "source": [
    "# Performing k nearest neighbour to make the final predictions\n",
    "\n",
    "def knn_mae (k, A , A_t , sim):\n",
    "    uu = np.nonzero(A_t)[0]\n",
    "    ii = np.nonzero(A_t)[1]\n",
    "    A_t_p = np.zeros((A_t.shape[0], A_t.shape[1]))\n",
    "    \n",
    "    for u,i in zip(uu,ii):\n",
    "        x = np.nonzero(A[u,:])[0]\n",
    "        x = x[x!=i]\n",
    "        k_i = x[np.argsort(sim[i,x])[::-1]][:k]\n",
    "        k_dist = sim[i,x][np.argsort(sim[i,x])[::-1]][:k]\n",
    "\n",
    "        A_t_p[u,i] = np.sum(np.multiply(A[u,k_i],k_dist))/np.sum(np.absolute(k_dist))\n",
    "\n",
    "        if np.isnan(A_t_p[u,i]):\n",
    "            A_t_p[u,i] = np.mean(A[u,:][A[u,:] != 0])\n",
    "    A_t_p = np.nan_to_num(A_t_p)\n",
    "        \n",
    "    result = np.absolute(A_t - A_t_p)\n",
    "    result = np.mean(result[result !=0])\n",
    "    return result"
   ]
  },
  {
   "cell_type": "code",
   "execution_count": null,
   "metadata": {
    "collapsed": false,
    "scrolled": true
   },
   "outputs": [],
   "source": [
    "# tuning k by performing a grid search\n",
    "\n",
    "k = [1,5,10,20,30,40,50]\n",
    "\n",
    "# using the cosine similarity matrix first\n",
    "mae_cos = np.zeros(len(k))\n",
    "for kk,i in zip(k,range(len(k))):\n",
    "                mae_cos[i] = knn_mae (kk, A , A_t , sim_cos)\n",
    "\n",
    "# using the pearson correlation similarity matrix\n",
    "mae_corr = np.zeros(len(k))\n",
    "for kk,i in zip(k,range(len(k))):\n",
    "                mae_corr[i] = knn_mae (kk, A , A_t , sim_corr)"
   ]
  },
  {
   "cell_type": "code",
   "execution_count": null,
   "metadata": {
    "collapsed": false
   },
   "outputs": [],
   "source": [
    "# creating the result plots\n",
    "\n",
    "import matplotlib.pyplot as plt\n",
    "\n",
    "K=[1,5,10,20,30,40,50]\n",
    "MAE_corr_CF = [ 1.42829121,  0.8954746 ,  0.89530384,  0.98537369,  1.0760362 ,1.17499251,  1.24868311]\n",
    "MAE_con_CF = [1.44819743,  0.92803631,  0.93786554,  1.06331131,  1.19974013, 1.34069922,  1.44821194]\n",
    "MAE_con_lsi = [0.5504, 0.4611, 0.4486, 0.4441, 0.4437, 0.4442, 0.4449]\n",
    "MAE_con_lda = [0.5904, 0.4870, 0.4705, 0.4632, 0.4610, 0.4606, 0.4603]\n",
    "MAE_corr_lsi = [0.5501, 0.4611, 0.4484, 0.4439, 0.4435, 0.4441, 0.4447]\n",
    "MAE_corr_lda = [0.5904, 0.4886, 0.4724, 0.4680, 0.4655, 0.4656, 0.4689]"
   ]
  },
  {
   "cell_type": "code",
   "execution_count": null,
   "metadata": {
    "collapsed": true
   },
   "outputs": [],
   "source": [
    "def plotting(lsi, lda, CF, K, width=8, height=6):\n",
    "    plt.figure(figsize=(width, height))\n",
    "    #plt.title('Errors vs Iterations', fontsize = 14)\n",
    "    plt.plot(lsi, color=\"navy\", lw=3)\n",
    "    plt.plot(lda, color=\"deepskyblue\", lw=3)\n",
    "    plt.plot(CF, color=\"blue\", lw=3)\n",
    "    plt.legend(['LSI', 'LDA', 'CF'], loc='upper right')\n",
    "    plt.xlabel('K', fontsize=12)\n",
    "    plt.ylabel('MAE', fontsize=12)\n",
    "    plt.xticks(range(0, 7), K,fontsize=12)\n",
    "    plt.yticks(fontsize=12)\n",
    "    plt.grid()\n",
    "    plt.show()"
   ]
  },
  {
   "cell_type": "code",
   "execution_count": null,
   "metadata": {
    "collapsed": false,
    "scrolled": false
   },
   "outputs": [],
   "source": [
    "plotting(MAE_corr_lsi, MAE_corr_lda,MAE_corr_CF, K, width=8, height=6)"
   ]
  },
  {
   "cell_type": "code",
   "execution_count": null,
   "metadata": {
    "collapsed": true
   },
   "outputs": [],
   "source": [
    "plotting(MAE_con_lsi, MAE_con_lda,MAE_con_CF, K, width=8, height=6)"
   ]
  }
 ],
 "metadata": {
  "anaconda-cloud": {},
  "kernelspec": {
   "display_name": "Python [default]",
   "language": "python",
   "name": "python3"
  },
  "language_info": {
   "codemirror_mode": {
    "name": "ipython",
    "version": 3
   },
   "file_extension": ".py",
   "mimetype": "text/x-python",
   "name": "python",
   "nbconvert_exporter": "python",
   "pygments_lexer": "ipython3",
   "version": "3.5.2"
  }
 },
 "nbformat": 4,
 "nbformat_minor": 1
}
