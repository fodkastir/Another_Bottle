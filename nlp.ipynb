{
 "cells": [
  {
   "cell_type": "code",
   "execution_count": 67,
   "metadata": {
    "collapsed": false
   },
   "outputs": [],
   "source": [
    "import pandas as pd\n",
    "import numpy as np\n",
    "import itertools\n",
    "import pymysql\n",
    "import gensim\n",
    "import random\n",
    "import spacy\n",
    "import re\n",
    "\n",
    "\n",
    "from bs4 import BeautifulSoup\n",
    "from tqdm import tqdm\n",
    "from nltk.corpus import stopwords\n",
    "from gensim import corpora\n",
    "from sklearn import preprocessing\n",
    "from sklearn.cluster import KMeans\n",
    "from sklearn.metrics.pairwise import cosine_similarity, pairwise_distances\n",
    "from scipy.sparse import coo_matrix\n",
    "from sklearn.utils.extmath import safe_sparse_dot\n",
    "from scipy.spatial.distance import correlation"
   ]
  },
  {
   "cell_type": "code",
   "execution_count": 2,
   "metadata": {
    "collapsed": true
   },
   "outputs": [],
   "source": [
    "db_info = {'HOST':'yen-6740db.czewfafbu0y5.us-east-1.rds.amazonaws.com',\n",
    "           'PORT':3306,\n",
    "           'USER':'fodkastir',\n",
    "           'PASSWD':'fodka1234stir',\n",
    "           'DB':'beer_db',}\n",
    "def get_conn(db_info):\n",
    "    conn = pymysql.connect(host=db_info['HOST'],\n",
    "                           port=db_info['PORT'],\n",
    "                           user=db_info['USER'],\n",
    "                           passwd=db_info['PASSWD'],\n",
    "                           db=db_info['DB'])\n",
    "    conn.set_charset('utf8')\n",
    "    return conn\n",
    "\n",
    "def init_cur(conn):\n",
    "    cur = conn.cursor()\n",
    "    cur.execute('SET NAMES utf8;')\n",
    "    cur.execute('SET CHARACTER SET utf8;')\n",
    "    cur.execute('SET character_set_connection=utf8;')\n",
    "    return cur\n",
    "conn = get_conn(db_info)\n",
    "cur = init_cur(conn)"
   ]
  },
  {
   "cell_type": "code",
   "execution_count": 3,
   "metadata": {
    "collapsed": false
   },
   "outputs": [],
   "source": [
    "query = \"\"\"SELECT user_name From notable\"\"\"\n",
    "df_notable = pd.read_sql_query (query, conn)"
   ]
  },
  {
   "cell_type": "code",
   "execution_count": 4,
   "metadata": {
    "collapsed": false
   },
   "outputs": [],
   "source": [
    "query = \"\"\"SELECT user_name, bottle_name, brewer, review, overall From ratings\"\"\"\n",
    "df = pd.read_sql_query (query, conn)"
   ]
  },
  {
   "cell_type": "code",
   "execution_count": 5,
   "metadata": {
    "collapsed": true
   },
   "outputs": [],
   "source": [
    "df[\"bottle\"] = df[\"brewer\"] + ' ' + df[\"bottle_name\"]"
   ]
  },
  {
   "cell_type": "code",
   "execution_count": 6,
   "metadata": {
    "collapsed": false
   },
   "outputs": [
    {
     "data": {
      "text/html": [
       "<div>\n",
       "<table border=\"1\" class=\"dataframe\">\n",
       "  <thead>\n",
       "    <tr style=\"text-align: right;\">\n",
       "      <th></th>\n",
       "      <th>user_name</th>\n",
       "      <th>bottle_name</th>\n",
       "      <th>brewer</th>\n",
       "      <th>review</th>\n",
       "      <th>overall</th>\n",
       "      <th>bottle</th>\n",
       "    </tr>\n",
       "  </thead>\n",
       "  <tbody>\n",
       "    <tr>\n",
       "      <th>0</th>\n",
       "      <td>--Dom--</td>\n",
       "      <td>2XIPA</td>\n",
       "      <td>Southern Tier Brewing Company</td>\n",
       "      <td>Poured from a 12 oz bottle into a snifter. Pou...</td>\n",
       "      <td>3.75</td>\n",
       "      <td>Southern Tier Brewing Company 2XIPA</td>\n",
       "    </tr>\n",
       "    <tr>\n",
       "      <th>1</th>\n",
       "      <td>--Dom--</td>\n",
       "      <td>60 Minute IPA</td>\n",
       "      <td>Dogfish Head Craft Brewery</td>\n",
       "      <td>Poures from a 12 oz bottle into a tulip. Pours...</td>\n",
       "      <td>4.00</td>\n",
       "      <td>Dogfish Head Craft Brewery 60 Minute IPA</td>\n",
       "    </tr>\n",
       "    <tr>\n",
       "      <th>2</th>\n",
       "      <td>--Dom--</td>\n",
       "      <td>90 Minute IPA</td>\n",
       "      <td>Dogfish Head Craft Brewery</td>\n",
       "      <td>Poured from a 12 oz bottle into a snifter. Pou...</td>\n",
       "      <td>4.75</td>\n",
       "      <td>Dogfish Head Craft Brewery 90 Minute IPA</td>\n",
       "    </tr>\n",
       "    <tr>\n",
       "      <th>3</th>\n",
       "      <td>--Dom--</td>\n",
       "      <td>Alpha King</td>\n",
       "      <td>3 Floyds Brewing Co.</td>\n",
       "      <td>A great APA. A lot more flavor here than most ...</td>\n",
       "      <td>4.25</td>\n",
       "      <td>3 Floyds Brewing Co. Alpha King</td>\n",
       "    </tr>\n",
       "    <tr>\n",
       "      <th>4</th>\n",
       "      <td>--Dom--</td>\n",
       "      <td>Alter Ego Black IPA</td>\n",
       "      <td>4 Hands Brewing Co.</td>\n",
       "      <td>While I tend to only like beers over 6.5ish ab...</td>\n",
       "      <td>4.00</td>\n",
       "      <td>4 Hands Brewing Co. Alter Ego Black IPA</td>\n",
       "    </tr>\n",
       "  </tbody>\n",
       "</table>\n",
       "</div>"
      ],
      "text/plain": [
       "  user_name          bottle_name                         brewer  \\\n",
       "0   --Dom--                2XIPA  Southern Tier Brewing Company   \n",
       "1   --Dom--        60 Minute IPA     Dogfish Head Craft Brewery   \n",
       "2   --Dom--        90 Minute IPA     Dogfish Head Craft Brewery   \n",
       "3   --Dom--           Alpha King           3 Floyds Brewing Co.   \n",
       "4   --Dom--  Alter Ego Black IPA            4 Hands Brewing Co.   \n",
       "\n",
       "                                              review  overall  \\\n",
       "0  Poured from a 12 oz bottle into a snifter. Pou...     3.75   \n",
       "1  Poures from a 12 oz bottle into a tulip. Pours...     4.00   \n",
       "2  Poured from a 12 oz bottle into a snifter. Pou...     4.75   \n",
       "3  A great APA. A lot more flavor here than most ...     4.25   \n",
       "4  While I tend to only like beers over 6.5ish ab...     4.00   \n",
       "\n",
       "                                     bottle  \n",
       "0       Southern Tier Brewing Company 2XIPA  \n",
       "1  Dogfish Head Craft Brewery 60 Minute IPA  \n",
       "2  Dogfish Head Craft Brewery 90 Minute IPA  \n",
       "3           3 Floyds Brewing Co. Alpha King  \n",
       "4   4 Hands Brewing Co. Alter Ego Black IPA  "
      ]
     },
     "execution_count": 6,
     "metadata": {},
     "output_type": "execute_result"
    }
   ],
   "source": [
    "df.head()"
   ]
  },
  {
   "cell_type": "code",
   "execution_count": 7,
   "metadata": {
    "collapsed": false
   },
   "outputs": [
    {
     "name": "stdout",
     "output_type": "stream",
     "text": [
      "Total Bottles: 38607\n"
     ]
    }
   ],
   "source": [
    "print('Total Bottles:',len(df[\"bottle\"].unique()))"
   ]
  },
  {
   "cell_type": "code",
   "execution_count": 8,
   "metadata": {
    "collapsed": false
   },
   "outputs": [
    {
     "name": "stdout",
     "output_type": "stream",
     "text": [
      "Total Users: 55504\n"
     ]
    }
   ],
   "source": [
    "print('Total Users:',len(df[\"user_name\"].unique()))"
   ]
  },
  {
   "cell_type": "code",
   "execution_count": 9,
   "metadata": {
    "collapsed": false
   },
   "outputs": [
    {
     "name": "stderr",
     "output_type": "stream",
     "text": [
      "C:\\Users\\fodkastir\\Anaconda3\\lib\\site-packages\\ipykernel\\__main__.py:3: UserWarning: Boolean Series key will be reindexed to match DataFrame index.\n",
      "  app.launch_new_instance()\n"
     ]
    }
   ],
   "source": [
    "# downsmapling\n",
    "bottle = df['bottle'].value_counts()[0:2500].index\n",
    "rand_user = np.random.choice(df['user_name'].unique(),5000)\n",
    "df_temp = df[df['bottle'].isin(bottle)][df['user_name'].isin(rand_user)].reset_index().copy()\n",
    "df_temp.drop_duplicates(inplace=True)"
   ]
  },
  {
   "cell_type": "code",
   "execution_count": 10,
   "metadata": {
    "collapsed": false
   },
   "outputs": [
    {
     "data": {
      "text/html": [
       "<div>\n",
       "<table border=\"1\" class=\"dataframe\">\n",
       "  <thead>\n",
       "    <tr style=\"text-align: right;\">\n",
       "      <th></th>\n",
       "      <th>bottle</th>\n",
       "      <th>bottle_label</th>\n",
       "      <th>review</th>\n",
       "    </tr>\n",
       "  </thead>\n",
       "  <tbody>\n",
       "    <tr>\n",
       "      <th>0</th>\n",
       "      <td>21st Amendment Brewery 21st Amendment IPA</td>\n",
       "      <td>0</td>\n",
       "      <td>Pours a cloudy light copper with more than a f...</td>\n",
       "    </tr>\n",
       "    <tr>\n",
       "      <th>1</th>\n",
       "      <td>21st Amendment Brewery Back In Black</td>\n",
       "      <td>1</td>\n",
       "      <td>Basic black with a finger of head that left be...</td>\n",
       "    </tr>\n",
       "    <tr>\n",
       "      <th>2</th>\n",
       "      <td>21st Amendment Brewery Fireside Chat</td>\n",
       "      <td>2</td>\n",
       "      <td>Brownish copper with a half finger of head. Mi...</td>\n",
       "    </tr>\n",
       "    <tr>\n",
       "      <th>3</th>\n",
       "      <td>21st Amendment Brewery Hell Or High Watermelon...</td>\n",
       "      <td>3</td>\n",
       "      <td>Pours a pale straw color with a thin film of h...</td>\n",
       "    </tr>\n",
       "    <tr>\n",
       "      <th>4</th>\n",
       "      <td>21st Amendment Brewery Hop Crisis</td>\n",
       "      <td>4</td>\n",
       "      <td>Pours a hazy straw color with a finger of head...</td>\n",
       "    </tr>\n",
       "  </tbody>\n",
       "</table>\n",
       "</div>"
      ],
      "text/plain": [
       "                                              bottle  bottle_label  \\\n",
       "0          21st Amendment Brewery 21st Amendment IPA             0   \n",
       "1               21st Amendment Brewery Back In Black             1   \n",
       "2               21st Amendment Brewery Fireside Chat             2   \n",
       "3  21st Amendment Brewery Hell Or High Watermelon...             3   \n",
       "4                  21st Amendment Brewery Hop Crisis             4   \n",
       "\n",
       "                                              review  \n",
       "0  Pours a cloudy light copper with more than a f...  \n",
       "1  Basic black with a finger of head that left be...  \n",
       "2  Brownish copper with a half finger of head. Mi...  \n",
       "3  Pours a pale straw color with a thin film of h...  \n",
       "4  Pours a hazy straw color with a finger of head...  "
      ]
     },
     "execution_count": 10,
     "metadata": {},
     "output_type": "execute_result"
    }
   ],
   "source": [
    "# get reviews for clustering\n",
    "df_review = df_temp[df_temp['user_name'].isin(df_notable['user_name'])]\n",
    "df_review_sum = df_review.groupby(['bottle'])['review'].sum()\n",
    "df_review_sum = pd.DataFrame({'bottle':df_review_sum.index, 'bottle_label':range(0,len(df_review_sum)), 'review':df_review_sum.values} )\n",
    "df_review_sum.head()"
   ]
  },
  {
   "cell_type": "code",
   "execution_count": 11,
   "metadata": {
    "collapsed": false
   },
   "outputs": [
    {
     "data": {
      "text/html": [
       "<div>\n",
       "<table border=\"1\" class=\"dataframe\">\n",
       "  <thead>\n",
       "    <tr style=\"text-align: right;\">\n",
       "      <th></th>\n",
       "      <th>index</th>\n",
       "      <th>user_name</th>\n",
       "      <th>bottle_name</th>\n",
       "      <th>brewer</th>\n",
       "      <th>review</th>\n",
       "      <th>overall</th>\n",
       "      <th>bottle</th>\n",
       "      <th>user_label</th>\n",
       "      <th>bottle_label</th>\n",
       "    </tr>\n",
       "  </thead>\n",
       "  <tbody>\n",
       "    <tr>\n",
       "      <th>0</th>\n",
       "      <td>235</td>\n",
       "      <td>-steve-</td>\n",
       "      <td>Tröegs Nugget Nectar</td>\n",
       "      <td>Tröegs Brewing Company</td>\n",
       "      <td>A - Red hued with generous head. Lacy foam sti...</td>\n",
       "      <td>4.0</td>\n",
       "      <td>Tröegs Brewing Company Tröegs Nugget Nectar</td>\n",
       "      <td>0</td>\n",
       "      <td>2305</td>\n",
       "    </tr>\n",
       "    <tr>\n",
       "      <th>1</th>\n",
       "      <td>3115</td>\n",
       "      <td>2BDChicago</td>\n",
       "      <td>Tröegs Nugget Nectar</td>\n",
       "      <td>Tröegs Brewing Company</td>\n",
       "      <td>A: Clear, rich golden amber. Delicate white fo...</td>\n",
       "      <td>4.5</td>\n",
       "      <td>Tröegs Brewing Company Tröegs Nugget Nectar</td>\n",
       "      <td>12</td>\n",
       "      <td>2305</td>\n",
       "    </tr>\n",
       "    <tr>\n",
       "      <th>2</th>\n",
       "      <td>7831</td>\n",
       "      <td>57md</td>\n",
       "      <td>Tröegs Nugget Nectar</td>\n",
       "      <td>Tröegs Brewing Company</td>\n",
       "      <td>Appearance is a striking copper with half a fi...</td>\n",
       "      <td>4.5</td>\n",
       "      <td>Tröegs Brewing Company Tröegs Nugget Nectar</td>\n",
       "      <td>21</td>\n",
       "      <td>2305</td>\n",
       "    </tr>\n",
       "    <tr>\n",
       "      <th>3</th>\n",
       "      <td>11281</td>\n",
       "      <td>aaron</td>\n",
       "      <td>Tröegs Nugget Nectar</td>\n",
       "      <td>Tröegs Brewing Company</td>\n",
       "      <td>This one is really delicious -- pairing a citr...</td>\n",
       "      <td>3.5</td>\n",
       "      <td>Tröegs Brewing Company Tröegs Nugget Nectar</td>\n",
       "      <td>1981</td>\n",
       "      <td>2305</td>\n",
       "    </tr>\n",
       "    <tr>\n",
       "      <th>4</th>\n",
       "      <td>14977</td>\n",
       "      <td>ABOWMan</td>\n",
       "      <td>Tröegs Nugget Nectar</td>\n",
       "      <td>Tröegs Brewing Company</td>\n",
       "      <td>Poured from the bottle, this beer is amber in ...</td>\n",
       "      <td>4.0</td>\n",
       "      <td>Tröegs Brewing Company Tröegs Nugget Nectar</td>\n",
       "      <td>84</td>\n",
       "      <td>2305</td>\n",
       "    </tr>\n",
       "  </tbody>\n",
       "</table>\n",
       "</div>"
      ],
      "text/plain": [
       "   index   user_name           bottle_name                  brewer  \\\n",
       "0    235     -steve-  Tröegs Nugget Nectar  Tröegs Brewing Company   \n",
       "1   3115  2BDChicago  Tröegs Nugget Nectar  Tröegs Brewing Company   \n",
       "2   7831        57md  Tröegs Nugget Nectar  Tröegs Brewing Company   \n",
       "3  11281       aaron  Tröegs Nugget Nectar  Tröegs Brewing Company   \n",
       "4  14977     ABOWMan  Tröegs Nugget Nectar  Tröegs Brewing Company   \n",
       "\n",
       "                                              review  overall  \\\n",
       "0  A - Red hued with generous head. Lacy foam sti...      4.0   \n",
       "1  A: Clear, rich golden amber. Delicate white fo...      4.5   \n",
       "2  Appearance is a striking copper with half a fi...      4.5   \n",
       "3  This one is really delicious -- pairing a citr...      3.5   \n",
       "4  Poured from the bottle, this beer is amber in ...      4.0   \n",
       "\n",
       "                                        bottle  user_label  bottle_label  \n",
       "0  Tröegs Brewing Company Tröegs Nugget Nectar           0          2305  \n",
       "1  Tröegs Brewing Company Tröegs Nugget Nectar          12          2305  \n",
       "2  Tröegs Brewing Company Tröegs Nugget Nectar          21          2305  \n",
       "3  Tröegs Brewing Company Tröegs Nugget Nectar        1981          2305  \n",
       "4  Tröegs Brewing Company Tröegs Nugget Nectar          84          2305  "
      ]
     },
     "execution_count": 11,
     "metadata": {},
     "output_type": "execute_result"
    }
   ],
   "source": [
    "le_user = preprocessing.LabelEncoder()\n",
    "le_user.fit(df_temp['user_name'])\n",
    "df_temp['user_label'] = le_user.transform(df_temp['user_name']) \n",
    "\n",
    "df_temp = pd.merge(df_temp, df_review_sum[['bottle','bottle_label']], on='bottle')\n",
    "df_temp.head()"
   ]
  },
  {
   "cell_type": "code",
   "execution_count": 12,
   "metadata": {
    "collapsed": true
   },
   "outputs": [],
   "source": [
    "# create tokenizer\n",
    "nlp = spacy.load('en')\n",
    "\n",
    "def spacy_tokenize (raw_text):\n",
    "\n",
    "    stops = set(stopwords.words(\"english\"))\n",
    "\n",
    "    text = BeautifulSoup(raw_text, \"lxml\").get_text()\n",
    "       \n",
    "    tokens = [token.lemma_ for token in nlp(raw_text) if not token.lemma_ in stops and len(token.lemma_) > 1 and token.lemma_ != '-PRON-']\n",
    "    tokens = [token for token in tokens if re.match(\"^[a-zA-Z0-9_]*$\", token)]\n",
    "    \n",
    "    return tokens"
   ]
  },
  {
   "cell_type": "code",
   "execution_count": 13,
   "metadata": {
    "collapsed": false
   },
   "outputs": [
    {
     "name": "stdout",
     "output_type": "stream",
     "text": [
      "Number of Bottles: 2479\n"
     ]
    }
   ],
   "source": [
    "print('Number of Bottles:',len(df_review_sum))"
   ]
  },
  {
   "cell_type": "code",
   "execution_count": 14,
   "metadata": {
    "collapsed": false
   },
   "outputs": [
    {
     "name": "stderr",
     "output_type": "stream",
     "text": [
      "100%|██████████████████████████████████████| 2479/2479 [03:44<00:00, 11.04it/s]\n"
     ]
    }
   ],
   "source": [
    "# tokenize reviews\n",
    "clean_reviews = []\n",
    "for review in tqdm(df_review_sum['review']):\n",
    "    clean_reviews.append(spacy_tokenize (review))"
   ]
  },
  {
   "cell_type": "code",
   "execution_count": 60,
   "metadata": {
    "collapsed": true
   },
   "outputs": [],
   "source": [
    "# reviews to tfidf to lsi to kmeans labels \n",
    "def reviews_tolsi(reviews, n_topics=100):\n",
    "    dic = corpora.Dictionary(reviews)\n",
    "    corpus = [dic.doc2bow(text) for text in clean_reviews]\n",
    "    tfidf = gensim.models.tfidfmodel.TfidfModel(corpus)\n",
    "    corpus_tfidf = tfidf[corpus]\n",
    "    lsi = gensim.models.lsimodel.LsiModel(corpus_tfidf, num_topics=n_topics, id2word=dic)\n",
    "    \n",
    "    review_lsi = np.zeros((len(df_review_sum), n_topics), dtype=\"float32\")\n",
    "    counter = 0\n",
    "    for tf in corpus_tfidf:\n",
    "        review_lsi[counter] = [x[1] for x in lsi[tf]]\n",
    "        counter += 1\n",
    "    return review_lsi\n",
    "\n",
    "def reviews_tolda(reviews, n_topics=100):\n",
    "    dic = corpora.Dictionary(reviews)\n",
    "    corpus = [dic.doc2bow(text) for text in clean_reviews]\n",
    "    tfidf = gensim.models.tfidfmodel.TfidfModel(corpus)\n",
    "    corpus_tfidf = tfidf[corpus]\n",
    "    lda = gensim.models.ldamodel.LdaModel(corpus_tfidf, num_topics=n_topics, id2word=dic)\n",
    "    \n",
    "    review_lda = np.zeros((len(df_review_sum), n_topics), dtype=\"float32\")\n",
    "    counter = 0\n",
    "    for tf in corpus_tfidf:\n",
    "        review_lda[counter] = [x[1] for x in lda.get_document_topics(tf, minimum_probability=0)]\n",
    "        counter += 1\n",
    "    return review_lda"
   ]
  },
  {
   "cell_type": "code",
   "execution_count": 119,
   "metadata": {
    "collapsed": true
   },
   "outputs": [],
   "source": [
    "n_topics=100\n",
    "dic = corpora.Dictionary(clean_reviews)\n",
    "corpus = [dic.doc2bow(text) for text in clean_reviews]\n",
    "tfidf = gensim.models.tfidfmodel.TfidfModel(corpus)\n",
    "corpus_tfidf = tfidf[corpus]\n",
    "lsi = gensim.models.lsimodel.LsiModel(corpus_tfidf, num_topics=n_topics, id2word=dic)\n",
    "lda = gensim.models.ldamodel.LdaModel(corpus_tfidf, num_topics=n_topics, id2word=dic)"
   ]
  },
  {
   "cell_type": "code",
   "execution_count": 123,
   "metadata": {
    "collapsed": false
   },
   "outputs": [
    {
     "data": {
      "text/plain": [
       "[(0,\n",
       "  '0.213*\"chocolate\" + 0.191*\"coffee\" + 0.118*\"brown\" + 0.114*\"pine\" + 0.113*\"stout\" + 0.110*\"roasted\" + 0.108*\"dark\" + 0.107*\"black\" + 0.107*\"ipa\" + 0.098*\"grapefruit\"'),\n",
       " (1,\n",
       "  '-0.412*\"coffee\" + -0.388*\"chocolate\" + -0.235*\"stout\" + -0.186*\"black\" + -0.182*\"roasted\" + -0.153*\"bourbon\" + 0.149*\"ipa\" + 0.141*\"grapefruit\" + 0.140*\"pine\" + -0.136*\"roast\"'),\n",
       " (2,\n",
       "  '-0.264*\"pine\" + -0.255*\"ipa\" + -0.217*\"grapefruit\" + 0.196*\"sour\" + 0.175*\"cherry\" + 0.175*\"wheat\" + 0.170*\"banana\" + 0.166*\"pumpkin\" + 0.151*\"clove\" + 0.149*\"bourbon\"'),\n",
       " (3,\n",
       "  '-0.561*\"bourbon\" + -0.237*\"oak\" + 0.217*\"wheat\" + -0.213*\"barrel\" + 0.185*\"coffee\" + -0.181*\"vanilla\" + 0.180*\"banana\" + 0.140*\"clove\" + -0.122*\"cherry\" + 0.114*\"porter\"'),\n",
       " (4,\n",
       "  '0.860*\"pumpkin\" + 0.207*\"pie\" + 0.180*\"cinnamon\" + 0.177*\"nutmeg\" + -0.104*\"wheat\" + 0.099*\"spice\" + -0.083*\"sour\" + -0.079*\"banana\" + 0.078*\"ginger\" + 0.070*\"allspice\"'),\n",
       " (5,\n",
       "  '0.500*\"bourbon\" + 0.289*\"wheat\" + -0.270*\"sour\" + 0.261*\"banana\" + -0.229*\"cherry\" + -0.181*\"tart\" + 0.177*\"clove\" + -0.173*\"raspberry\" + -0.142*\"vinegar\" + -0.137*\"funk\"'),\n",
       " (6,\n",
       "  '0.225*\"wheat\" + 0.218*\"coffee\" + -0.212*\"lager\" + 0.176*\"banana\" + 0.149*\"pumpkin\" + -0.144*\"corn\" + -0.141*\"brown\" + 0.139*\"clove\" + 0.135*\"tropical\" + 0.130*\"grapefruit\"'),\n",
       " (7,\n",
       "  '-0.218*\"lager\" + -0.217*\"bourbon\" + -0.182*\"corn\" + 0.176*\"banana\" + 0.171*\"belgian\" + 0.163*\"brown\" + 0.158*\"raisin\" + -0.151*\"straw\" + -0.147*\"sour\" + -0.146*\"coffee\"'),\n",
       " (8,\n",
       "  '-0.348*\"wheat\" + -0.309*\"raspberry\" + 0.300*\"saison\" + 0.299*\"belgian\" + -0.204*\"banana\" + 0.173*\"tripel\" + -0.169*\"hefe\" + 0.156*\"pear\" + 0.145*\"pepper\" + -0.137*\"cherry\"'),\n",
       " (9,\n",
       "  '-0.922*\"rye\" + 0.107*\"raspberry\" + -0.096*\"saison\" + 0.076*\"corn\" + -0.070*\"spicy\" + -0.053*\"whiskey\" + 0.053*\"lager\" + 0.048*\"dipa\" + 0.046*\"porter\" + -0.045*\"spice\"')]"
      ]
     },
     "execution_count": 123,
     "metadata": {},
     "output_type": "execute_result"
    }
   ],
   "source": [
    "lsi.print_topics(10)"
   ]
  },
  {
   "cell_type": "code",
   "execution_count": 125,
   "metadata": {
    "collapsed": false
   },
   "outputs": [
    {
     "data": {
      "text/plain": [
       "[(56,\n",
       "  '0.005*\"compete\" + 0.004*\"coffee\" + 0.004*\"roast\" + 0.004*\"ghost\" + 0.004*\"roasted\" + 0.003*\"chocolate\" + 0.003*\"pils\" + 0.003*\"piny\" + 0.003*\"decidedly\" + 0.003*\"necessarily\"'),\n",
       " (42,\n",
       "  '0.007*\"lost\" + 0.004*\"speakeasy\" + 0.004*\"glug\" + 0.004*\"graininess\" + 0.003*\"jab\" + 0.003*\"brewers\" + 0.003*\"swampy\" + 0.002*\"beech\" + 0.002*\"ohhh\" + 0.002*\"flourescent\"'),\n",
       " (39,\n",
       "  '0.007*\"advertised\" + 0.004*\"overactive\" + 0.003*\"furious\" + 0.003*\"digestable\" + 0.003*\"cm\" + 0.003*\"deny\" + 0.002*\"fate\" + 0.002*\"toats\" + 0.002*\"gallatin\" + 0.002*\"tn\"'),\n",
       " (4,\n",
       "  '0.007*\"coffee\" + 0.007*\"chocolate\" + 0.005*\"brown\" + 0.005*\"cherry\" + 0.004*\"dark\" + 0.004*\"roasted\" + 0.003*\"berry\" + 0.003*\"black\" + 0.003*\"oak\" + 0.003*\"roast\"'),\n",
       " (35,\n",
       "  '0.007*\"octoberfest\" + 0.004*\"chill\" + 0.004*\"mixer\" + 0.003*\"fennel\" + 0.003*\"impressively\" + 0.003*\"jul\" + 0.003*\"filmishmish\" + 0.003*\"protien\" + 0.002*\"blanced\" + 0.002*\"encompass\"'),\n",
       " (75,\n",
       "  '0.007*\"microbrewery\" + 0.004*\"drafting\" + 0.004*\"lathering\" + 0.002*\"outlandish\" + 0.002*\"mepours\" + 0.002*\"fleshy\" + 0.002*\"texutre\" + 0.002*\"hometown\" + 0.002*\"maltine\" + 0.002*\"peters\"'),\n",
       " (32,\n",
       "  '0.005*\"nn\" + 0.003*\"slippery\" + 0.002*\"subconscious\" + 0.002*\"leathery\" + 0.002*\"eatery\" + 0.002*\"bummer\" + 0.002*\"czoch75\" + 0.002*\"decisively\" + 0.002*\"pruney\" + 0.002*\"offense\"'),\n",
       " (68,\n",
       "  '0.007*\"adequate\" + 0.005*\"bicuity\" + 0.005*\"defined\" + 0.004*\"stella\" + 0.003*\"tow\" + 0.003*\"special\" + 0.003*\"creative\" + 0.003*\"list\" + 0.003*\"quaff\" + 0.003*\"lager\"'),\n",
       " (46,\n",
       "  '0.020*\"smuttynose\" + 0.005*\"portsmouth\" + 0.005*\"attemp\" + 0.004*\"removal\" + 0.004*\"fruitynes\" + 0.004*\"vortex\" + 0.003*\"uncomplicated\" + 0.003*\"cheer\" + 0.003*\"steve\" + 0.003*\"treacle\"'),\n",
       " (96,\n",
       "  '0.005*\"smutty\" + 0.005*\"dependable\" + 0.005*\"mission\" + 0.004*\"ipa\" + 0.003*\"save\" + 0.003*\"scratch\" + 0.003*\"dld\" + 0.003*\"slack\" + 0.003*\"fuck\" + 0.002*\"waaay\"')]"
      ]
     },
     "execution_count": 125,
     "metadata": {},
     "output_type": "execute_result"
    }
   ],
   "source": [
    "lda.print_topics(10)"
   ]
  },
  {
   "cell_type": "code",
   "execution_count": 116,
   "metadata": {
    "collapsed": false
   },
   "outputs": [],
   "source": [
    "review_lsi = reviews_tolsi(clean_reviews)\n",
    "sim_matrix_lsi = cosine_similarity(review_lsi, review_lsi)"
   ]
  },
  {
   "cell_type": "code",
   "execution_count": 23,
   "metadata": {
    "collapsed": true
   },
   "outputs": [],
   "source": [
    "train_ind = np.random.choice(range(len(df_temp)),int(len(df_temp)*0.8))\n",
    "test_ind = np.setdiff1d(range(len(df_temp)), train_ind)\n",
    "df_temp_train = df_temp.ix[train_ind] \n",
    "df_temp_test = df_temp.ix[test_ind] \n",
    "\n",
    "df_temp_train.drop_duplicates(inplace=True)\n",
    "df_temp_test.drop_duplicates(inplace=True)"
   ]
  },
  {
   "cell_type": "code",
   "execution_count": 33,
   "metadata": {
    "collapsed": false
   },
   "outputs": [
    {
     "data": {
      "text/html": [
       "<div>\n",
       "<table border=\"1\" class=\"dataframe\">\n",
       "  <thead>\n",
       "    <tr style=\"text-align: right;\">\n",
       "      <th></th>\n",
       "      <th>index</th>\n",
       "      <th>user_name</th>\n",
       "      <th>bottle_name</th>\n",
       "      <th>brewer</th>\n",
       "      <th>review</th>\n",
       "      <th>overall</th>\n",
       "      <th>bottle</th>\n",
       "      <th>user_label</th>\n",
       "      <th>bottle_label</th>\n",
       "    </tr>\n",
       "  </thead>\n",
       "  <tbody>\n",
       "    <tr>\n",
       "      <th>0</th>\n",
       "      <td>235</td>\n",
       "      <td>-steve-</td>\n",
       "      <td>Tröegs Nugget Nectar</td>\n",
       "      <td>Tröegs Brewing Company</td>\n",
       "      <td>A - Red hued with generous head. Lacy foam sti...</td>\n",
       "      <td>4.0</td>\n",
       "      <td>Tröegs Brewing Company Tröegs Nugget Nectar</td>\n",
       "      <td>0</td>\n",
       "      <td>2305</td>\n",
       "    </tr>\n",
       "    <tr>\n",
       "      <th>4</th>\n",
       "      <td>14977</td>\n",
       "      <td>ABOWMan</td>\n",
       "      <td>Tröegs Nugget Nectar</td>\n",
       "      <td>Tröegs Brewing Company</td>\n",
       "      <td>Poured from the bottle, this beer is amber in ...</td>\n",
       "      <td>4.0</td>\n",
       "      <td>Tröegs Brewing Company Tröegs Nugget Nectar</td>\n",
       "      <td>84</td>\n",
       "      <td>2305</td>\n",
       "    </tr>\n",
       "    <tr>\n",
       "      <th>5</th>\n",
       "      <td>26993</td>\n",
       "      <td>aerozeppl</td>\n",
       "      <td>Tröegs Nugget Nectar</td>\n",
       "      <td>Tröegs Brewing Company</td>\n",
       "      <td>12oz bottle into a pint glass.&lt;br /&gt;\\n&lt;br /&gt;\\n...</td>\n",
       "      <td>4.5</td>\n",
       "      <td>Tröegs Brewing Company Tröegs Nugget Nectar</td>\n",
       "      <td>2007</td>\n",
       "      <td>2305</td>\n",
       "    </tr>\n",
       "    <tr>\n",
       "      <th>6</th>\n",
       "      <td>35836</td>\n",
       "      <td>AKBelgianBeast</td>\n",
       "      <td>Tröegs Nugget Nectar</td>\n",
       "      <td>Tröegs Brewing Company</td>\n",
       "      <td>Thanks to franksnbeans for the trade. &lt;br /&gt;\\n...</td>\n",
       "      <td>4.5</td>\n",
       "      <td>Tröegs Brewing Company Tröegs Nugget Nectar</td>\n",
       "      <td>91</td>\n",
       "      <td>2305</td>\n",
       "    </tr>\n",
       "    <tr>\n",
       "      <th>9</th>\n",
       "      <td>68865</td>\n",
       "      <td>AnPiobaire</td>\n",
       "      <td>Tröegs Nugget Nectar</td>\n",
       "      <td>Tröegs Brewing Company</td>\n",
       "      <td>Poured from a 12 oz bottle, into a goblet. It ...</td>\n",
       "      <td>4.5</td>\n",
       "      <td>Tröegs Brewing Company Tröegs Nugget Nectar</td>\n",
       "      <td>136</td>\n",
       "      <td>2305</td>\n",
       "    </tr>\n",
       "  </tbody>\n",
       "</table>\n",
       "</div>"
      ],
      "text/plain": [
       "   index       user_name           bottle_name                  brewer  \\\n",
       "0    235         -steve-  Tröegs Nugget Nectar  Tröegs Brewing Company   \n",
       "4  14977         ABOWMan  Tröegs Nugget Nectar  Tröegs Brewing Company   \n",
       "5  26993       aerozeppl  Tröegs Nugget Nectar  Tröegs Brewing Company   \n",
       "6  35836  AKBelgianBeast  Tröegs Nugget Nectar  Tröegs Brewing Company   \n",
       "9  68865      AnPiobaire  Tröegs Nugget Nectar  Tröegs Brewing Company   \n",
       "\n",
       "                                              review  overall  \\\n",
       "0  A - Red hued with generous head. Lacy foam sti...      4.0   \n",
       "4  Poured from the bottle, this beer is amber in ...      4.0   \n",
       "5  12oz bottle into a pint glass.<br />\\n<br />\\n...      4.5   \n",
       "6  Thanks to franksnbeans for the trade. <br />\\n...      4.5   \n",
       "9  Poured from a 12 oz bottle, into a goblet. It ...      4.5   \n",
       "\n",
       "                                        bottle  user_label  bottle_label  \n",
       "0  Tröegs Brewing Company Tröegs Nugget Nectar           0          2305  \n",
       "4  Tröegs Brewing Company Tröegs Nugget Nectar          84          2305  \n",
       "5  Tröegs Brewing Company Tröegs Nugget Nectar        2007          2305  \n",
       "6  Tröegs Brewing Company Tröegs Nugget Nectar          91          2305  \n",
       "9  Tröegs Brewing Company Tröegs Nugget Nectar         136          2305  "
      ]
     },
     "execution_count": 33,
     "metadata": {},
     "output_type": "execute_result"
    }
   ],
   "source": [
    "df_temp_test.head()"
   ]
  },
  {
   "cell_type": "code",
   "execution_count": 34,
   "metadata": {
    "collapsed": true
   },
   "outputs": [],
   "source": [
    "rating_mat = coo_matrix((df_temp_train['overall'],(df_temp_train['bottle_label'], df_temp_train['user_label']))).toarray()"
   ]
  },
  {
   "cell_type": "code",
   "execution_count": 115,
   "metadata": {
    "collapsed": true
   },
   "outputs": [],
   "source": [
    "def KNN (row, k=1, sim_matrix=sim_matrix, rating_mat=rating_mat):\n",
    "    i = int(row['user_label'])\n",
    "    j = int(row['bottle_label'])\n",
    "    top_k = []\n",
    "    a = sim_matrix[j].argsort()[::-1]\n",
    "    b = rating_mat[:,i].nonzero()[0]\n",
    "    for item in a:\n",
    "        if item in b:\n",
    "            top_k.append(item)\n",
    "        if len(top_k) == k:\n",
    "            break\n",
    "    sim = sim_matrix[j][top_k]\n",
    "    rat = rating_mat[top_k,i]\n",
    "    deno = sum(abs(sim))\n",
    "    num = np.dot(rat,sim)\n",
    "    return num/deno "
   ]
  },
  {
   "cell_type": "code",
   "execution_count": 117,
   "metadata": {
    "collapsed": false
   },
   "outputs": [],
   "source": [
    "df_temp_test['K1'] = df_temp_test.apply(KNN ,args=(1,sim_matrix_lsi),axis=1)\n",
    "df_temp_test['K5'] = df_temp_test.apply(KNN ,args=(5,sim_matrix_lsi),axis=1)\n",
    "df_temp_test['K10'] = df_temp_test.apply(KNN ,args=(10,sim_matrix_lsi),axis=1)\n",
    "df_temp_test['K20'] = df_temp_test.apply(KNN ,args=(20,sim_matrix_lsi),axis=1)\n",
    "df_temp_test['K30'] = df_temp_test.apply(KNN ,args=(30,sim_matrix_lsi),axis=1)\n",
    "df_temp_test['K40'] = df_temp_test.apply(KNN ,args=(40,sim_matrix_lsi),axis=1)\n",
    "df_temp_test['K50'] = df_temp_test.apply(KNN ,args=(50,sim_matrix_lsi),axis=1)"
   ]
  },
  {
   "cell_type": "code",
   "execution_count": 118,
   "metadata": {
    "collapsed": false
   },
   "outputs": [
    {
     "name": "stdout",
     "output_type": "stream",
     "text": [
      "RMSE of K=1: 0.783711713479\n",
      "RMSE of K=5: 0.636650835102\n",
      "RMSE of K=10: 0.622786310201\n",
      "RMSE of K=20: 0.618608015686\n",
      "RMSE of K=30: 0.618953160199\n",
      "RMSE of K=40: 0.619923938829\n",
      "RMSE of K=50: 0.620894338044\n"
     ]
    }
   ],
   "source": [
    "print('RMSE of K=1:',np.sqrt(((df_temp_test['overall'] - df_temp_test['K1'])**2).mean()))\n",
    "print('RMSE of K=5:',np.sqrt(((df_temp_test['overall'] - df_temp_test['K5'])**2).mean()))\n",
    "print('RMSE of K=10:',np.sqrt(((df_temp_test['overall'] - df_temp_test['K10'])**2).mean()))\n",
    "print('RMSE of K=20:',np.sqrt(((df_temp_test['overall'] - df_temp_test['K20'])**2).mean()))\n",
    "print('RMSE of K=30:',np.sqrt(((df_temp_test['overall'] - df_temp_test['K30'])**2).mean()))\n",
    "print('RMSE of K=40:',np.sqrt(((df_temp_test['overall'] - df_temp_test['K40'])**2).mean()))\n",
    "print('RMSE of K=50:',np.sqrt(((df_temp_test['overall'] - df_temp_test['K50'])**2).mean()))"
   ]
  },
  {
   "cell_type": "code",
   "execution_count": 53,
   "metadata": {
    "collapsed": false
   },
   "outputs": [
    {
     "name": "stdout",
     "output_type": "stream",
     "text": [
      "MAE of K=1: 0.550429906542056\n",
      "MAE of K=5: 0.4610888125817281\n",
      "MAE of K=10: 0.44861643063503137\n",
      "MAE of K=20: 0.444136464229022\n",
      "MAE of K=30: 0.4437259351320703\n",
      "MAE of K=40: 0.4441832893234423\n",
      "MAE of K=50: 0.44486833345267784\n"
     ]
    }
   ],
   "source": [
    "print('MAE of K=1:',abs((df_temp_test['overall'] - df_temp_test['K1'])).mean())\n",
    "print('MAE of K=5:',abs((df_temp_test['overall'] - df_temp_test['K5'])).mean())\n",
    "print('MAE of K=10:',abs((df_temp_test['overall'] - df_temp_test['K10'])).mean())\n",
    "print('MAE of K=20:',abs((df_temp_test['overall'] - df_temp_test['K20'])).mean())\n",
    "print('MAE of K=30:',abs((df_temp_test['overall'] - df_temp_test['K30'])).mean())\n",
    "print('MAE of K=40:',abs((df_temp_test['overall'] - df_temp_test['K40'])).mean())\n",
    "print('MAE of K=50:',abs((df_temp_test['overall'] - df_temp_test['K50'])).mean())"
   ]
  },
  {
   "cell_type": "code",
   "execution_count": 61,
   "metadata": {
    "collapsed": false
   },
   "outputs": [],
   "source": [
    "review_lda = reviews_tolda(clean_reviews)\n",
    "sim_matrix_lda = cosine_similarity(review_lda, review_lda)"
   ]
  },
  {
   "cell_type": "code",
   "execution_count": 63,
   "metadata": {
    "collapsed": true
   },
   "outputs": [],
   "source": [
    "df_temp_test_lda = df_temp_test.copy()"
   ]
  },
  {
   "cell_type": "code",
   "execution_count": 64,
   "metadata": {
    "collapsed": true
   },
   "outputs": [],
   "source": [
    "df_temp_test_lda['K1'] = df_temp_test_lda.apply(KNN ,args=(1,),axis=1)\n",
    "df_temp_test_lda['K5'] = df_temp_test_lda.apply(KNN ,args=(5,),axis=1)\n",
    "df_temp_test_lda['K10'] = df_temp_test_lda.apply(KNN ,args=(10,),axis=1)\n",
    "df_temp_test_lda['K20'] = df_temp_test_lda.apply(KNN ,args=(20,),axis=1)\n",
    "df_temp_test_lda['K30'] = df_temp_test_lda.apply(KNN ,args=(30,),axis=1)\n",
    "df_temp_test_lda['K40'] = df_temp_test_lda.apply(KNN ,args=(40,),axis=1)\n",
    "df_temp_test_lda['K50'] = df_temp_test_lda.apply(KNN ,args=(50,),axis=1)"
   ]
  },
  {
   "cell_type": "code",
   "execution_count": 65,
   "metadata": {
    "collapsed": false
   },
   "outputs": [
    {
     "name": "stdout",
     "output_type": "stream",
     "text": [
      "RMSE of K=1: 0.828088479328\n",
      "RMSE of K=5: 0.670906769776\n",
      "RMSE of K=10: 0.652095788004\n",
      "RMSE of K=20: 0.644506919107\n",
      "RMSE of K=30: 0.642449671665\n",
      "RMSE of K=40: 0.641792545387\n",
      "RMSE of K=50: 0.641603847156\n"
     ]
    }
   ],
   "source": [
    "print('RMSE of K=1:',np.sqrt(((df_temp_test_lda['overall'] - df_temp_test_lda['K1'])**2).mean()))\n",
    "print('RMSE of K=5:',np.sqrt(((df_temp_test_lda['overall'] - df_temp_test_lda['K5'])**2).mean()))\n",
    "print('RMSE of K=10:',np.sqrt(((df_temp_test_lda['overall'] - df_temp_test_lda['K10'])**2).mean()))\n",
    "print('RMSE of K=20:',np.sqrt(((df_temp_test_lda['overall'] - df_temp_test_lda['K20'])**2).mean()))\n",
    "print('RMSE of K=30:',np.sqrt(((df_temp_test_lda['overall'] - df_temp_test_lda['K30'])**2).mean()))\n",
    "print('RMSE of K=40:',np.sqrt(((df_temp_test_lda['overall'] - df_temp_test_lda['K40'])**2).mean()))\n",
    "print('RMSE of K=50:',np.sqrt(((df_temp_test_lda['overall'] - df_temp_test_lda['K50'])**2).mean()))"
   ]
  },
  {
   "cell_type": "code",
   "execution_count": 66,
   "metadata": {
    "collapsed": false
   },
   "outputs": [
    {
     "name": "stdout",
     "output_type": "stream",
     "text": [
      "MAE of K=1: 0.5904485981308412\n",
      "MAE of K=5: 0.4870090036915699\n",
      "MAE of K=10: 0.47051404564998933\n",
      "MAE of K=20: 0.4632370140800693\n",
      "MAE of K=30: 0.4609535361148403\n",
      "MAE of K=40: 0.460560043902872\n",
      "MAE of K=50: 0.4603499568402314\n"
     ]
    }
   ],
   "source": [
    "print('MAE of K=1:',abs((df_temp_test_lda['overall'] - df_temp_test_lda['K1'])).mean())\n",
    "print('MAE of K=5:',abs((df_temp_test_lda['overall'] - df_temp_test_lda['K5'])).mean())\n",
    "print('MAE of K=10:',abs((df_temp_test_lda['overall'] - df_temp_test_lda['K10'])).mean())\n",
    "print('MAE of K=20:',abs((df_temp_test_lda['overall'] - df_temp_test_lda['K20'])).mean())\n",
    "print('MAE of K=30:',abs((df_temp_test_lda['overall'] - df_temp_test_lda['K30'])).mean())\n",
    "print('MAE of K=40:',abs((df_temp_test_lda['overall'] - df_temp_test_lda['K40'])).mean())\n",
    "print('MAE of K=50:',abs((df_temp_test_lda['overall'] - df_temp_test_lda['K50'])).mean())"
   ]
  },
  {
   "cell_type": "code",
   "execution_count": 79,
   "metadata": {
    "collapsed": true
   },
   "outputs": [],
   "source": [
    "sim_matrix_corr_lsi = np.corrcoef(review_lsi)"
   ]
  },
  {
   "cell_type": "code",
   "execution_count": 80,
   "metadata": {
    "collapsed": false
   },
   "outputs": [],
   "source": [
    "df_temp_test['K1_corr'] = df_temp_test.apply(KNN ,args=(1,sim_matrix_corr_lsi),axis=1)\n",
    "df_temp_test['K5_corr'] = df_temp_test.apply(KNN ,args=(5,sim_matrix_corr_lsi),axis=1)\n",
    "df_temp_test['K10_corr'] = df_temp_test.apply(KNN ,args=(10,sim_matrix_corr_lsi),axis=1)\n",
    "df_temp_test['K20_corr'] = df_temp_test.apply(KNN ,args=(20,sim_matrix_corr_lsi),axis=1)\n",
    "df_temp_test['K30_corr'] = df_temp_test.apply(KNN ,args=(30,sim_matrix_corr_lsi),axis=1)\n",
    "df_temp_test['K40_corr'] = df_temp_test.apply(KNN ,args=(40,sim_matrix_corr_lsi),axis=1)\n",
    "df_temp_test['K50_corr'] = df_temp_test.apply(KNN ,args=(50,sim_matrix_corr_lsi),axis=1)"
   ]
  },
  {
   "cell_type": "code",
   "execution_count": 81,
   "metadata": {
    "collapsed": false
   },
   "outputs": [
    {
     "name": "stdout",
     "output_type": "stream",
     "text": [
      "RMSE of K=1: 0.783425460215\n",
      "RMSE of K=5: 0.637196107702\n",
      "RMSE of K=10: 0.622587251318\n",
      "RMSE of K=20: 0.618492821784\n",
      "RMSE of K=30: 0.61890879194\n",
      "RMSE of K=40: 0.619718214387\n",
      "RMSE of K=50: 0.620760987385\n"
     ]
    }
   ],
   "source": [
    "print('RMSE of K=1:',np.sqrt(((df_temp_test['overall'] - df_temp_test['K1_corr'])**2).mean()))\n",
    "print('RMSE of K=5:',np.sqrt(((df_temp_test['overall'] - df_temp_test['K5_corr'])**2).mean()))\n",
    "print('RMSE of K=10:',np.sqrt(((df_temp_test['overall'] - df_temp_test['K10_corr'])**2).mean()))\n",
    "print('RMSE of K=20:',np.sqrt(((df_temp_test['overall'] - df_temp_test['K20_corr'])**2).mean()))\n",
    "print('RMSE of K=30:',np.sqrt(((df_temp_test['overall'] - df_temp_test['K30_corr'])**2).mean()))\n",
    "print('RMSE of K=40:',np.sqrt(((df_temp_test['overall'] - df_temp_test['K40_corr'])**2).mean()))\n",
    "print('RMSE of K=50:',np.sqrt(((df_temp_test['overall'] - df_temp_test['K50_corr'])**2).mean()))"
   ]
  },
  {
   "cell_type": "code",
   "execution_count": 82,
   "metadata": {
    "collapsed": false
   },
   "outputs": [
    {
     "name": "stdout",
     "output_type": "stream",
     "text": [
      "MAE of K=1: 0.5501495327102803\n",
      "MAE of K=5: 0.46109549223830204\n",
      "MAE of K=10: 0.44838131000121384\n",
      "MAE of K=20: 0.44392615465790297\n",
      "MAE of K=30: 0.44353638479661056\n",
      "MAE of K=40: 0.4440856481152861\n",
      "MAE of K=50: 0.4447119927200129\n"
     ]
    }
   ],
   "source": [
    "print('MAE of K=1:',abs((df_temp_test['overall'] - df_temp_test['K1_corr'])).mean())\n",
    "print('MAE of K=5:',abs((df_temp_test['overall'] - df_temp_test['K5_corr'])).mean())\n",
    "print('MAE of K=10:',abs((df_temp_test['overall'] - df_temp_test['K10_corr'])).mean())\n",
    "print('MAE of K=20:',abs((df_temp_test['overall'] - df_temp_test['K20_corr'])).mean())\n",
    "print('MAE of K=30:',abs((df_temp_test['overall'] - df_temp_test['K30_corr'])).mean())\n",
    "print('MAE of K=40:',abs((df_temp_test['overall'] - df_temp_test['K40_corr'])).mean())\n",
    "print('MAE of K=50:',abs((df_temp_test['overall'] - df_temp_test['K50_corr'])).mean())"
   ]
  },
  {
   "cell_type": "code",
   "execution_count": 83,
   "metadata": {
    "collapsed": true
   },
   "outputs": [],
   "source": [
    "sim_matrix_corr_lda = np.corrcoef(review_lda)"
   ]
  },
  {
   "cell_type": "code",
   "execution_count": 84,
   "metadata": {
    "collapsed": true
   },
   "outputs": [],
   "source": [
    "df_temp_test_lda['K1_corr'] = df_temp_test_lda.apply(KNN ,args=(1,sim_matrix_corr_lda),axis=1)\n",
    "df_temp_test_lda['K5_corr'] = df_temp_test_lda.apply(KNN ,args=(5,sim_matrix_corr_lda),axis=1)\n",
    "df_temp_test_lda['K10_corr'] = df_temp_test_lda.apply(KNN ,args=(10,sim_matrix_corr_lda),axis=1)\n",
    "df_temp_test_lda['K20_corr'] = df_temp_test_lda.apply(KNN ,args=(20,sim_matrix_corr_lda),axis=1)\n",
    "df_temp_test_lda['K30_corr'] = df_temp_test_lda.apply(KNN ,args=(30,sim_matrix_corr_lda),axis=1)\n",
    "df_temp_test_lda['K40_corr'] = df_temp_test_lda.apply(KNN ,args=(40,sim_matrix_corr_lda),axis=1)\n",
    "df_temp_test_lda['K50_corr'] = df_temp_test_lda.apply(KNN ,args=(50,sim_matrix_corr_lda),axis=1)"
   ]
  },
  {
   "cell_type": "code",
   "execution_count": 85,
   "metadata": {
    "collapsed": false
   },
   "outputs": [
    {
     "name": "stdout",
     "output_type": "stream",
     "text": [
      "RMSE of K=1: 0.828385623628\n",
      "RMSE of K=5: 0.701476553279\n",
      "RMSE of K=10: 0.684046156581\n",
      "RMSE of K=20: 0.863513445966\n",
      "RMSE of K=30: 0.859865564016\n",
      "RMSE of K=40: 0.862228371094\n",
      "RMSE of K=50: 1.00241005038\n"
     ]
    }
   ],
   "source": [
    "print('RMSE of K=1:',np.sqrt(((df_temp_test_lda['overall'] - df_temp_test_lda['K1_corr'])**2).mean()))\n",
    "print('RMSE of K=5:',np.sqrt(((df_temp_test_lda['overall'] - df_temp_test_lda['K5_corr'])**2).mean()))\n",
    "print('RMSE of K=10:',np.sqrt(((df_temp_test_lda['overall'] - df_temp_test_lda['K10_corr'])**2).mean()))\n",
    "print('RMSE of K=20:',np.sqrt(((df_temp_test_lda['overall'] - df_temp_test_lda['K20_corr'])**2).mean()))\n",
    "print('RMSE of K=30:',np.sqrt(((df_temp_test_lda['overall'] - df_temp_test_lda['K30_corr'])**2).mean()))\n",
    "print('RMSE of K=40:',np.sqrt(((df_temp_test_lda['overall'] - df_temp_test_lda['K40_corr'])**2).mean()))\n",
    "print('RMSE of K=50:',np.sqrt(((df_temp_test_lda['overall'] - df_temp_test_lda['K50_corr'])**2).mean()))"
   ]
  },
  {
   "cell_type": "code",
   "execution_count": 86,
   "metadata": {
    "collapsed": false
   },
   "outputs": [
    {
     "name": "stdout",
     "output_type": "stream",
     "text": [
      "MAE of K=1: 0.590386292834891\n",
      "MAE of K=5: 0.4886022782957587\n",
      "MAE of K=10: 0.4723539213505411\n",
      "MAE of K=20: 0.46795871596938377\n",
      "MAE of K=30: 0.4654838677265959\n",
      "MAE of K=40: 0.46561910773038057\n",
      "MAE of K=50: 0.46890076173758366\n"
     ]
    }
   ],
   "source": [
    "print('MAE of K=1:',abs((df_temp_test_lda['overall'] - df_temp_test_lda['K1_corr'])).mean())\n",
    "print('MAE of K=5:',abs((df_temp_test_lda['overall'] - df_temp_test_lda['K5_corr'])).mean())\n",
    "print('MAE of K=10:',abs((df_temp_test_lda['overall'] - df_temp_test_lda['K10_corr'])).mean())\n",
    "print('MAE of K=20:',abs((df_temp_test_lda['overall'] - df_temp_test_lda['K20_corr'])).mean())\n",
    "print('MAE of K=30:',abs((df_temp_test_lda['overall'] - df_temp_test_lda['K30_corr'])).mean())\n",
    "print('MAE of K=40:',abs((df_temp_test_lda['overall'] - df_temp_test_lda['K40_corr'])).mean())\n",
    "print('MAE of K=50:',abs((df_temp_test_lda['overall'] - df_temp_test_lda['K50_corr'])).mean())"
   ]
  },
  {
   "cell_type": "code",
   "execution_count": 128,
   "metadata": {
    "collapsed": true
   },
   "outputs": [],
   "source": [
    "df_temp_train[['user_name','bottle_name','brewer','bottle','user_label','bottle_label','overall']].to_csv('train.csv')\n",
    "df_temp_test[['user_name','bottle_name','brewer','bottle','user_label','bottle_label','overall']].to_csv('test.csv')"
   ]
  },
  {
   "cell_type": "code",
   "execution_count": null,
   "metadata": {
    "collapsed": true
   },
   "outputs": [],
   "source": []
  }
 ],
 "metadata": {
  "anaconda-cloud": {},
  "kernelspec": {
   "display_name": "Python [default]",
   "language": "python",
   "name": "python3"
  },
  "language_info": {
   "codemirror_mode": {
    "name": "ipython",
    "version": 3
   },
   "file_extension": ".py",
   "mimetype": "text/x-python",
   "name": "python",
   "nbconvert_exporter": "python",
   "pygments_lexer": "ipython3",
   "version": "3.5.2"
  }
 },
 "nbformat": 4,
 "nbformat_minor": 1
}
